{
 "cells": [
  {
   "cell_type": "code",
   "execution_count": 1,
   "metadata": {},
   "outputs": [
    {
     "name": "stderr",
     "output_type": "stream",
     "text": [
      "/Users/niaki/Workspace/cocktailr-backend/.venv/lib/python3.9/site-packages/tqdm/auto.py:21: TqdmWarning: IProgress not found. Please update jupyter and ipywidgets. See https://ipywidgets.readthedocs.io/en/stable/user_install.html\n",
      "  from .autonotebook import tqdm as notebook_tqdm\n"
     ]
    }
   ],
   "source": [
    "import google.generativeai as genai\n",
    "import os\n",
    "\n",
    "genai.configure(api_key=os.environ[\"GOOGLE_API_KEY\"])\n",
    "\n",
    "model = genai.GenerativeModel('gemini-1.5-flash')\n"
   ]
  },
  {
   "cell_type": "code",
   "execution_count": 8,
   "metadata": {},
   "outputs": [
    {
     "name": "stdout",
     "output_type": "stream",
     "text": [
      "Uploaded file 'Liquor Shelf' as: https://generativelanguage.googleapis.com/v1beta/files/kvhonnrea2d1\n"
     ]
    }
   ],
   "source": [
    "# Upload the file and print a confirmation.\n",
    "sample_file = genai.upload_file(path=\"liquor-shelf.jpg\",\n",
    "                            display_name=\"Liquor Shelf\")\n",
    "\n",
    "print(f\"Uploaded file '{sample_file.display_name}' as: {sample_file.uri}\")"
   ]
  },
  {
   "cell_type": "code",
   "execution_count": 9,
   "metadata": {},
   "outputs": [
    {
     "name": "stdout",
     "output_type": "stream",
     "text": [
      "Retrieved file 'Liquor Shelf' as: https://generativelanguage.googleapis.com/v1beta/files/kvhonnrea2d1\n"
     ]
    }
   ],
   "source": [
    "file = genai.get_file(name=sample_file.name)\n",
    "print(f\"Retrieved file '{file.display_name}' as: {sample_file.uri}\")"
   ]
  },
  {
   "cell_type": "code",
   "execution_count": 10,
   "metadata": {},
   "outputs": [],
   "source": [
    "# Choose a Gemini API model.\n",
    "model = genai.GenerativeModel(model_name=\"gemini-1.5-pro-latest\")\n",
    "\n",
    "# Prompt the model with text and the previously uploaded image.\n",
    "response = model.generate_content([sample_file, \"List all the different cocktail ingredients that you see in this image.\"])"
   ]
  },
  {
   "cell_type": "code",
   "execution_count": 11,
   "metadata": {},
   "outputs": [
    {
     "name": "stdout",
     "output_type": "stream",
     "text": [
      "Here are the cocktail ingredients in the image, organized by shelf from top to bottom, left to right:\n",
      "\n",
      "**Shelf 1:**\n",
      "\n",
      "* Amaro di Angostura \n",
      "* D.O.M. Bénédictine\n",
      "* Braulio Amaro\n",
      "* Amaro Nonino\n",
      "* Luxardo Bitter Bianco\n",
      "* Luxardo Aperitivo\n",
      "* Peychaud's Aperitivo\n",
      "* Italicus Rosolio di Bergamotto\n",
      "\n",
      "**Shelf 2:**\n",
      "\n",
      "* Luxardo Amaro Abano\n",
      "* Zucca Rabarbaro \n",
      "* Maria al Monte Amaro\n",
      "* B. Nardini Amaro Bassano\n",
      "* Rinomato Aperitivo\n",
      "* Aperol Aperitivo\n",
      "* Campari \n",
      "* Amaro Sibona\n",
      "\n",
      "**Shelf 3:**\n",
      "\n",
      "* Averna Amaro\n",
      "* Cynar\n",
      "* Amaro Montenegro\n",
      "* Iris\n",
      "* Luxardo \n",
      "* (Unknown olive oil)\n",
      "* Amaro\n",
      "* Amaro Montenegro \n",
      "\n",
      "Let me know if you'd like to know more about any of these liqueurs! \n",
      "\n"
     ]
    }
   ],
   "source": [
    "print(response.text)"
   ]
  },
  {
   "cell_type": "code",
   "execution_count": 13,
   "metadata": {},
   "outputs": [],
   "source": [
    "ingredients_list = \"\"\"\"\n",
    "absinthe, absinthe club soda, agave syrup, aged agricole, aged overproof rum, aged pot still rum, aged rhum agricole, aged rum, aguardiente, allspice dram, allspice liqueur, amaretto, amargo vallet, amaro ciociaro, amaro dellerborista, amaro meletti, amaro montenegro, amaro nardini, amaro nonino, amaro sfumato rabarbaro, amer picon, amontadillo sherry, amontillado sherry, ancho reyes, anejo tequila, ango optional, angostura, angostura amaro, angostura bitters, angostura bitters floated, angostura peychauds, angostura peychauds bitters, angostura peychauds orange bitters, angosutra orange bitters, aperol, apple cider, applejack, appletons, apricot brandy, apricot liqueur, aquavit, averna, averna amaro, back strap rum, banana liqueur, benedictine, berries, biscotti liqueur, black strap rum, blackberries, blackstrap rum, blanc vermouth, blanco tequila, bottle of underberg or 025 oz amargo vallet, bourbon, braulio amaro, brown sugar cube, bruised cucumber, bruto americano, bual madeira, byrrh grand quinquina, cacao, cachaa, cachaca, caf lolita, cafe lolita, calvados, campari, cane syrup, cappelletti apertivo rosso, cassis, champagne, cherry, cherry heering, cherry heering club soda, cherry herring, chocolate bitters, cholula, cholula hot sauce, club soda, cocchi americano, cocchi americano or lillet blanc, cocchi rosa, coco lopez, coconut cream, coconut syrup, coconut water, coffee liqueur, cognac, cointreau, cold brew coffee, cream, creme de cacao, creme de menthe, creme de violette, crme de cacao, crme de cassis, crme de menthe, crme de violetteyvette, cruzan black strap rum, cucumber, cucumber strawberry, curaao, curacao, cynar, dark rum, dash absinthe, dash absinthe cucumber slices club soda, dash absinthe dash angostura bitters, dash angostura bitters club soda, dash angosutra bitters club soda, dash cane syrup club soda, dash cream, demerara rum, demerara syrup, drambuie, dry red wine, dry vermouth, egg, egg white, egg white club soda, egg yolk, elderflower liqueur, falernum, fernet, fernet branca, fernet branca menta, fernet vallet, fino sherry, galliano, gary classico, genever, gin, gin or cognac, ginger, ginger syrup, gold rhum agricole, goslings, goslings rum, gran classico, granny smith apple, grapefruit, grapes, green chartreuse, green chatreuse, grenadine, habanero bitters, half lemon cut into 4 pieces, hand whipped cream float, hand whipped cream float sweetened with coconut syrup, highland scotch, honey, honey syrup, irish, irish whiskey, islay scotch, jamaican rum, japanese whiskey, japanese whisky, juice, lemon, lemon lime orange, lemonlime, lemonlime juice, liberal amount of angosutra bitters club soda, licor 43, light rum, lillet rouge, lime, lime chunks, lime disc, lime wedge, lime wedge muddled, lofi amaro, lofi gentian amaro, lolita, luxardo bitters, manzanilla sherry, maple, maraschino, maraschino liqueur, marschino, mezcal, mint, mint cucumber, mint strawberry, navy strength gin, negra modelo, old tom gin, olorosso sherry, orange, orange and angostura bitters, orange bitters, orange flower, orange flower water, orange slices, orgeat, overproof jamaican rum, passionfruit syrup, peach bitters, peach liquer, peach liqueur, pear, pear brandy, pedro ximenez sherry, pernod, peychaud, peychauds, peychauds bitters, peychauds bitters club soda, pimms, pinch salt, pineapple, pineapple or orange, pineapple rum, pisco, port, pot still black rum, pot still rum, prosecco, punch fantasia, punt e mes, raspberries, raspberry preserves, red wine, reposado tequila, rhum agricole, rose water, rosewater, ruby port, rum, rye, salt, scotch, sfumato amaro, simple, simple syrup, smith cross, spanish brandy, sprite, strawberries, strawberry, strawberry cherry, sugar, suze, sweet vermouth, sweetened ginger, tawny port, tequila, tomrs tonic syrup, velvet falernum, vodka, watermelon, whiskey, white grapefruit, white rum, white sugar cube, white sugar cubes, worcestershire, yellow chartreuse\n",
    "\"\"\""
   ]
  },
  {
   "cell_type": "code",
   "execution_count": 16,
   "metadata": {},
   "outputs": [],
   "source": [
    "prompt = f\"\"\"\n",
    "List all the different cocktail ingredients that you see in this image and return it as a json list, e.g. [\"gin\", \"tonic\", \"lime\", \"ice\"].\n",
    "Return only the json list.\n",
    "Possible ingredients include: {ingredients_list}\n",
    "\"\"\""
   ]
  },
  {
   "cell_type": "code",
   "execution_count": null,
   "metadata": {},
   "outputs": [],
   "source": []
  },
  {
   "cell_type": "code",
   "execution_count": 17,
   "metadata": {},
   "outputs": [
    {
     "name": "stdout",
     "output_type": "stream",
     "text": [
      "[\"amaro\", \"angostura bitters\", \"campari\", \"maraschino liqueur\", \"sweet vermouth\", \"gin\", \"vodka\", \"rum\", \"tequila\", \"whiskey\", \"brandy\", \"cognac\"]\n",
      "\n"
     ]
    }
   ],
   "source": [
    "response = model.generate_content([sample_file, prompt])\n",
    "print(response.text)"
   ]
  },
  {
   "cell_type": "code",
   "execution_count": null,
   "metadata": {},
   "outputs": [],
   "source": []
  }
 ],
 "metadata": {
  "kernelspec": {
   "display_name": ".venv",
   "language": "python",
   "name": "python3"
  },
  "language_info": {
   "codemirror_mode": {
    "name": "ipython",
    "version": 3
   },
   "file_extension": ".py",
   "mimetype": "text/x-python",
   "name": "python",
   "nbconvert_exporter": "python",
   "pygments_lexer": "ipython3",
   "version": "3.9.6"
  }
 },
 "nbformat": 4,
 "nbformat_minor": 2
}
