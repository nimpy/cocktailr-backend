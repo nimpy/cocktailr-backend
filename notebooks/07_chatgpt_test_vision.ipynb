{
 "cells": [
  {
   "cell_type": "code",
   "execution_count": 11,
   "metadata": {},
   "outputs": [],
   "source": [
    "import os\n",
    "import json\n",
    "import getpass\n",
    "from openai import OpenAI\n",
    "\n",
    "os.environ[\"OPENAI_API_KEY\"] = getpass.getpass()"
   ]
  },
  {
   "cell_type": "code",
   "execution_count": 12,
   "metadata": {},
   "outputs": [],
   "source": [
    "client = OpenAI(api_key=os.environ[\"OPENAI_API_KEY\"])"
   ]
  },
  {
   "cell_type": "code",
   "execution_count": 22,
   "metadata": {},
   "outputs": [],
   "source": [
    "def openai_call_wrapper(messages):\n",
    "    response = client.chat.completions.create(\n",
    "        model=\"gpt-4o\",\n",
    "        messages=messages,\n",
    "        temperature=0.0,\n",
    "    )\n",
    "    try:\n",
    "        response = response.choices[0].message.content\n",
    "    except Exception as e:\n",
    "        print(\"There was an error with parsing the response in openai_call_wrapper(). The response was:\", response)\n",
    "        raise e\n",
    "    return response\n",
    "\n",
    "\n",
    "def openai_vision_call_wrapper(message_text, b64_image):\n",
    "    messages=[\n",
    "        {\n",
    "        \"role\": \"user\",\n",
    "        \"content\": [\n",
    "            {\"type\": \"text\", \"text\": message_text},\n",
    "            {\n",
    "            \"type\": \"image_url\",\n",
    "            \"image_url\": {\n",
    "                \"url\": f\"data:image/png;base64,{b64_image}\",\n",
    "                \"detail\": \"high\"\n",
    "            },\n",
    "            },\n",
    "        ]\n",
    "        }\n",
    "    ]\n",
    "    try:\n",
    "\n",
    "        response = client.chat.completions.create(\n",
    "            model=\"gpt-4o-mini\",\n",
    "            messages=messages,\n",
    "            temperature=0.0,\n",
    "        )\n",
    "    except Exception as e:\n",
    "        print(\"There was an error with the response in openai_vision_call_wrapper(). The response was:\", response)\n",
    "        raise e\n",
    "\n",
    "    return response.choices[0].message.content\n"
   ]
  },
  {
   "cell_type": "code",
   "execution_count": 23,
   "metadata": {},
   "outputs": [],
   "source": [
    "with open(\"booze.json\") as f:\n",
    "    data = json.load(f)\n",
    "\n",
    "    message_text = data[\"newMessage\"]\n",
    "\n",
    "    base64_image = data[\"image\"]"
   ]
  },
  {
   "cell_type": "code",
   "execution_count": 24,
   "metadata": {},
   "outputs": [
    {
     "data": {
      "text/plain": [
       "\"The image features a variety of alcohol types, including:\\n\\n1. **Whiskey** - Brands like Glenfiddich and Jura.\\n2. **Gin** - Notable brands include Roku Gin.\\n3. **Liqueurs** - Such as Cointreau and Baileys.\\n4. **Vodka** - Represented by brands like Eker Gin.\\n5. **Rum** - Some bottles may contain rum, though specific brands aren't visible.\\n6. **Tequila** - There may be tequila present, but it's not clearly identifiable.\\n\\nAdditionally, there are various mixers and possibly bitters or other spirits in smaller bottles.\""
      ]
     },
     "execution_count": 24,
     "metadata": {},
     "output_type": "execute_result"
    }
   ],
   "source": [
    "openai_vision_call_wrapper(message_text, base64_image)"
   ]
  },
  {
   "cell_type": "code",
   "execution_count": null,
   "metadata": {},
   "outputs": [],
   "source": []
  }
 ],
 "metadata": {
  "kernelspec": {
   "display_name": ".venv",
   "language": "python",
   "name": "python3"
  },
  "language_info": {
   "codemirror_mode": {
    "name": "ipython",
    "version": 3
   },
   "file_extension": ".py",
   "mimetype": "text/x-python",
   "name": "python",
   "nbconvert_exporter": "python",
   "pygments_lexer": "ipython3",
   "version": "3.9.6"
  }
 },
 "nbformat": 4,
 "nbformat_minor": 2
}
