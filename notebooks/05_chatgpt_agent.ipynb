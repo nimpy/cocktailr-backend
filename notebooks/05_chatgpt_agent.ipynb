{
 "cells": [
  {
   "cell_type": "code",
   "execution_count": 8,
   "metadata": {},
   "outputs": [],
   "source": [
    "import getpass\n",
    "import os\n",
    "\n",
    "os.environ[\"OPENAI_API_KEY\"] = getpass.getpass()"
   ]
  },
  {
   "cell_type": "code",
   "execution_count": 5,
   "metadata": {},
   "outputs": [],
   "source": [
    "from langchain.agents import tool"
   ]
  },
  {
   "cell_type": "code",
   "execution_count": 6,
   "metadata": {},
   "outputs": [],
   "source": [
    "@tool\n",
    "def get_list_of_ingredients_for_a_cocktail(cocktail_name: str) -> str:\n",
    "    \"\"\"Returns the list of ingredients for a cocktail.\"\"\"\n",
    "\n",
    "    return \"lime, vodka, salt, ice\""
   ]
  },
  {
   "cell_type": "code",
   "execution_count": 25,
   "metadata": {},
   "outputs": [
    {
     "name": "stdout",
     "output_type": "stream",
     "text": [
      "{'agent': {'messages': [AIMessage(content=\"Hello Bob! It's nice to meet you. How can I assist you today?\", additional_kwargs={'refusal': None}, response_metadata={'token_usage': {'completion_tokens': 18, 'prompt_tokens': 67, 'total_tokens': 85, 'completion_tokens_details': {'reasoning_tokens': 0}}, 'model_name': 'gpt-4-0613', 'system_fingerprint': None, 'finish_reason': 'stop', 'logprobs': None}, id='run-840fd03c-1876-4d64-83b8-ae76856a5cd5-0', usage_metadata={'input_tokens': 67, 'output_tokens': 18, 'total_tokens': 85})]}}\n",
      "----\n",
      "{'agent': {'messages': [AIMessage(content='', additional_kwargs={'tool_calls': [{'id': 'call_GRCB6QpWwaeZ7p7o8mR4GaVc', 'function': {'arguments': '{\\n  \"cocktail_name\": \"negroni\"\\n}', 'name': 'get_list_of_ingredients_for_a_cocktail'}, 'type': 'function'}], 'refusal': None}, response_metadata={'token_usage': {'completion_tokens': 27, 'prompt_tokens': 67, 'total_tokens': 94, 'completion_tokens_details': {'reasoning_tokens': 0}}, 'model_name': 'gpt-4-0613', 'system_fingerprint': None, 'finish_reason': 'tool_calls', 'logprobs': None}, id='run-16dcd391-4162-4ce2-85d0-3cfa5492b35a-0', tool_calls=[{'name': 'get_list_of_ingredients_for_a_cocktail', 'args': {'cocktail_name': 'negroni'}, 'id': 'call_GRCB6QpWwaeZ7p7o8mR4GaVc', 'type': 'tool_call'}], usage_metadata={'input_tokens': 67, 'output_tokens': 27, 'total_tokens': 94})]}}\n",
      "----\n",
      "{'tools': {'messages': [ToolMessage(content='lime, vodka, salt, ice', name='get_list_of_ingredients_for_a_cocktail', id='2692054a-138a-4350-ae9e-c15dc3f8bc96', tool_call_id='call_GRCB6QpWwaeZ7p7o8mR4GaVc')]}}\n",
      "----\n",
      "{'agent': {'messages': [AIMessage(content='To make a Negroni, you will need:\\n\\n- Lime\\n- Vodka\\n- Salt\\n- Ice\\n\\nEnjoy your cocktail!', additional_kwargs={'refusal': None}, response_metadata={'token_usage': {'completion_tokens': 29, 'prompt_tokens': 114, 'total_tokens': 143, 'completion_tokens_details': {'reasoning_tokens': 0}}, 'model_name': 'gpt-4-0613', 'system_fingerprint': None, 'finish_reason': 'stop', 'logprobs': None}, id='run-b0c47582-a37a-421e-b572-fb7f8b82e0a8-0', usage_metadata={'input_tokens': 114, 'output_tokens': 29, 'total_tokens': 143})]}}\n",
      "----\n"
     ]
    }
   ],
   "source": [
    "# Import relevant functionality\n",
    "from langchain_openai import ChatOpenAI\n",
    "from langchain_core.messages import HumanMessage, AIMessage\n",
    "# from langgraph.checkpoint.memory import MemorySaver\n",
    "from langgraph.prebuilt import create_react_agent\n",
    "\n",
    "\n",
    "# Create the agent\n",
    "# memory = MemorySaver()\n",
    "model = ChatOpenAI(model=\"gpt-4\")\n",
    "tools = [get_list_of_ingredients_for_a_cocktail]\n",
    "agent_executor = create_react_agent(model, tools) #, checkpointer=memory)\n",
    "\n",
    "# Use the agent\n",
    "config = {\"configurable\": {\"thread_id\": \"abc123\"}}\n",
    "for chunk in agent_executor.stream(\n",
    "    {\"messages\": [HumanMessage(content=\"hi im bob! and i live in sf\")]}, config\n",
    "):\n",
    "    print(chunk)\n",
    "    print(\"----\")\n",
    "\n",
    "for chunk in agent_executor.stream(\n",
    "    {\"messages\": [HumanMessage(content=\"how can I make a negroni?\")]}, config\n",
    "):\n",
    "    print(chunk)\n",
    "    print(\"----\")"
   ]
  },
  {
   "cell_type": "code",
   "execution_count": 24,
   "metadata": {},
   "outputs": [
    {
     "data": {
      "text/plain": [
       "{'messages': [HumanMessage(content='how can I make a negroni?', additional_kwargs={}, response_metadata={}, id='091dc339-309d-47f8-af94-42f87f4e4187'),\n",
       "  AIMessage(content='', additional_kwargs={'tool_calls': [{'id': 'call_zd1dDP54IKPtoTZO3jpNvPI2', 'function': {'arguments': '{\\n  \"cocktail_name\": \"negroni\"\\n}', 'name': 'get_list_of_ingredients_for_a_cocktail'}, 'type': 'function'}], 'refusal': None}, response_metadata={'token_usage': {'completion_tokens': 27, 'prompt_tokens': 67, 'total_tokens': 94, 'completion_tokens_details': {'reasoning_tokens': 0}}, 'model_name': 'gpt-4-0613', 'system_fingerprint': None, 'finish_reason': 'tool_calls', 'logprobs': None}, id='run-cc55e23a-008e-4c74-844b-78d9da48f948-0', tool_calls=[{'name': 'get_list_of_ingredients_for_a_cocktail', 'args': {'cocktail_name': 'negroni'}, 'id': 'call_zd1dDP54IKPtoTZO3jpNvPI2', 'type': 'tool_call'}], usage_metadata={'input_tokens': 67, 'output_tokens': 27, 'total_tokens': 94}),\n",
       "  ToolMessage(content='lime, vodka, salt, ice', name='get_list_of_ingredients_for_a_cocktail', id='7c8e25c3-52ed-4449-88a0-497868470ff4', tool_call_id='call_zd1dDP54IKPtoTZO3jpNvPI2'),\n",
       "  AIMessage(content='To make a Negroni cocktail, you will need the following ingredients:\\n\\n- Lime\\n- Vodka\\n- Salt\\n- Ice\\n\\nPlease note that this might not be a traditional Negroni recipe. A traditional Negroni is usually made with one part gin, one part vermouth rosso, and one part Campari, garnished with orange peel. It is considered an apéritif.', additional_kwargs={'refusal': None}, response_metadata={'token_usage': {'completion_tokens': 84, 'prompt_tokens': 114, 'total_tokens': 198, 'completion_tokens_details': {'reasoning_tokens': 0}}, 'model_name': 'gpt-4-0613', 'system_fingerprint': None, 'finish_reason': 'stop', 'logprobs': None}, id='run-d78917c9-f584-4ba5-91ad-e960f3b661b6-0', usage_metadata={'input_tokens': 114, 'output_tokens': 84, 'total_tokens': 198})]}"
      ]
     },
     "execution_count": 24,
     "metadata": {},
     "output_type": "execute_result"
    }
   ],
   "source": [
    "agent_executor.invoke(\n",
    "    {\"messages\": [HumanMessage(content=\"how can I make a negroni?\"), \n",
    "                #   AIMessage(content=\"get_list_of_ingredients_for_a_cocktail\", args={\"cocktail_name\": \"negroni\"})]}\n",
    "                #   HumanMessage(content=\"how can I make a margarita?\")\n",
    "                ]}\n",
    ")\n"
   ]
  },
  {
   "cell_type": "code",
   "execution_count": 26,
   "metadata": {},
   "outputs": [
    {
     "data": {
      "text/plain": [
       "'To make a Negroni, you will need the following ingredients:\\n\\n1. Lime\\n2. Vodka\\n3. Salt\\n4. Ice\\n\\nPlease note that traditionally a Negroni is made with gin, vermouth rosso, and Campari, garnished with orange peel. The recipe provided is a variant. Enjoy your cocktail!'"
      ]
     },
     "execution_count": 26,
     "metadata": {},
     "output_type": "execute_result"
    }
   ],
   "source": [
    "agent_executor.invoke(\n",
    "    {\"messages\": [\n",
    "                    AIMessage(content=\"Hi! I'm Brina, your personal cocktail bartender. How can I help you today?\"),\n",
    "                    HumanMessage(content=\"how can I make a negroni?\"), \n",
    "                #   AIMessage(content=\"get_list_of_ingredients_for_a_cocktail\", args={\"cocktail_name\": \"negroni\"})]}\n",
    "                #   HumanMessage(content=\"how can I make a margarita?\")\n",
    "                ]}\n",
    ")[\"messages\"][-1].content"
   ]
  },
  {
   "cell_type": "code",
   "execution_count": 27,
   "metadata": {},
   "outputs": [
    {
     "data": {
      "text/plain": [
       "'To make a Margarita, you will need the following ingredients:\\n\\n1. Lime\\n2. Vodka\\n3. Salt\\n4. Ice\\n\\nPlease note that traditionally a Margarita is made with tequila, orange liqueur, and lime juice often served with salt on the rim of the glass. The recipe provided is a variant. Enjoy your cocktail!'"
      ]
     },
     "execution_count": 27,
     "metadata": {},
     "output_type": "execute_result"
    }
   ],
   "source": [
    "agent_executor.invoke(\n",
    "    {\"messages\": [\n",
    "                    AIMessage(content=\"Hi! I'm Brina, your personal cocktail bartender. How can I help you today?\"),\n",
    "                    HumanMessage(content=\"how can I make a negroni?\"), \n",
    "                    AIMessage(content=\"To make a Negroni, you will need the following ingredients:\\n\\n1. Lime\\n2. Vodka\\n3. Salt\\n4. Ice\\n\\nPlease note that traditionally a Negroni is made with gin, vermouth rosso, and Campari, garnished with orange peel. The recipe provided is a variant. Enjoy your cocktail!\"),\n",
    "                    HumanMessage(content=\"And what about a margarita?\")\n",
    "                ]}\n",
    ")[\"messages\"][-1].content"
   ]
  },
  {
   "cell_type": "code",
   "execution_count": null,
   "metadata": {},
   "outputs": [],
   "source": []
  },
  {
   "cell_type": "code",
   "execution_count": null,
   "metadata": {},
   "outputs": [],
   "source": []
  },
  {
   "cell_type": "code",
   "execution_count": 28,
   "metadata": {},
   "outputs": [],
   "source": [
    "model = ChatOpenAI(model=\"gpt-4\")\n",
    "tools = [get_list_of_ingredients_for_a_cocktail]\n",
    "agent_executor = create_react_agent(model, tools)"
   ]
  },
  {
   "cell_type": "code",
   "execution_count": 29,
   "metadata": {},
   "outputs": [
    {
     "data": {
      "text/plain": [
       "'To make a Margarita, you will need the following ingredients:\\n\\n1. Lime\\n2. Vodka\\n3. Salt\\n4. Ice\\n\\nPlease note that traditionally a Margarita is made with tequila, orange liqueur, and lime juice, often served with salt on the rim of the glass. The recipe provided is a variant. Enjoy your cocktail!'"
      ]
     },
     "execution_count": 29,
     "metadata": {},
     "output_type": "execute_result"
    }
   ],
   "source": [
    "agent_executor.invoke(\n",
    "    {\"messages\": [\n",
    "                    AIMessage(content=\"Hi! I'm Brina, your personal cocktail bartender. How can I help you today?\"),\n",
    "                    HumanMessage(content=\"how can I make a negroni?\"), \n",
    "                    AIMessage(content=\"To make a Negroni, you will need the following ingredients:\\n\\n1. Lime\\n2. Vodka\\n3. Salt\\n4. Ice\\n\\nPlease note that traditionally a Negroni is made with gin, vermouth rosso, and Campari, garnished with orange peel. The recipe provided is a variant. Enjoy your cocktail!\"),\n",
    "                    HumanMessage(content=\"And what about a margarita?\")\n",
    "                ]}\n",
    ")[\"messages\"][-1].content"
   ]
  },
  {
   "cell_type": "code",
   "execution_count": null,
   "metadata": {},
   "outputs": [],
   "source": []
  }
 ],
 "metadata": {
  "kernelspec": {
   "display_name": ".venv",
   "language": "python",
   "name": "python3"
  },
  "language_info": {
   "codemirror_mode": {
    "name": "ipython",
    "version": 3
   },
   "file_extension": ".py",
   "mimetype": "text/x-python",
   "name": "python",
   "nbconvert_exporter": "python",
   "pygments_lexer": "ipython3",
   "version": "3.9.6"
  }
 },
 "nbformat": 4,
 "nbformat_minor": 2
}
