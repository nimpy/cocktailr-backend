{
 "cells": [
  {
   "cell_type": "code",
   "execution_count": 3,
   "metadata": {},
   "outputs": [],
   "source": [
    "import google.generativeai as genai\n",
    "import os\n",
    "\n",
    "genai.configure(api_key=os.environ[\"GOOGLE_API_KEY\"])\n",
    "\n",
    "model = genai.GenerativeModel('gemini-1.5-flash')\n"
   ]
  },
  {
   "cell_type": "code",
   "execution_count": 6,
   "metadata": {},
   "outputs": [
    {
     "name": "stdout",
     "output_type": "stream",
     "text": [
      "## Long Island Iced Tea - A Strong and Delicious Cocktail\n",
      "\n",
      "**Ingredients:**\n",
      "\n",
      "* 1 oz Vodka\n",
      "* 1 oz Tequila\n",
      "* 1 oz Rum\n",
      "* 1 oz Gin\n",
      "* 1 oz Triple Sec\n",
      "* 1/2 oz Fresh Lemon Juice\n",
      "* 1/2 oz Simple Syrup (or 1 oz Sugar)\n",
      "* Coca-Cola or Sprite (for topping)\n",
      "* Lemon Wedge (for garnish)\n",
      "\n",
      "**Instructions:**\n",
      "\n",
      "1. **Combine:** In a shaker filled with ice, add all the liquors, lemon juice, and simple syrup. \n",
      "2. **Shake:** Shake vigorously for about 15 seconds until the outside of the shaker is frosty.\n",
      "3. **Strain:** Strain the mixture into a highball glass filled with ice.\n",
      "4. **Top:** Top with your choice of Coca-Cola or Sprite.\n",
      "5. **Garnish:** Add a lemon wedge to the rim of the glass.\n",
      "\n",
      "**Tips:**\n",
      "\n",
      "* **Use quality ingredients:** While the long island iced tea is a potent drink, using good liquor will enhance the flavor.\n",
      "* **Adjust sweetness:** If you prefer a sweeter drink, use 1 oz of sugar instead of the simple syrup. \n",
      "* **Don't skimp on the ice:** Plenty of ice keeps the drink cold and dilutes it just enough.\n",
      "* **Be mindful of the alcohol content:** This drink is very strong, so enjoy it responsibly.\n",
      "* **Variations:**  Try adding a splash of cranberry juice for a sweeter and more colorful drink. \n",
      "\n",
      "**Remember:**  This drink is not actually tea, and it's important to be aware of its high alcohol content.  Drink responsibly! \n",
      "\n"
     ]
    }
   ],
   "source": [
    "response = model.generate_content(\"Hi, how can I make a long island ice tea?\")\n",
    "print(response.text)\n"
   ]
  },
  {
   "cell_type": "code",
   "execution_count": null,
   "metadata": {},
   "outputs": [],
   "source": []
  }
 ],
 "metadata": {
  "kernelspec": {
   "display_name": ".venv",
   "language": "python",
   "name": "python3"
  },
  "language_info": {
   "codemirror_mode": {
    "name": "ipython",
    "version": 3
   },
   "file_extension": ".py",
   "mimetype": "text/x-python",
   "name": "python",
   "nbconvert_exporter": "python",
   "pygments_lexer": "ipython3",
   "version": "3.9.6"
  }
 },
 "nbformat": 4,
 "nbformat_minor": 2
}
