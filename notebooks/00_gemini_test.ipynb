{
 "cells": [
  {
   "cell_type": "code",
   "execution_count": 1,
   "metadata": {},
   "outputs": [
    {
     "name": "stderr",
     "output_type": "stream",
     "text": [
      "/Users/niaki/Workspace/cocktailr-backend/.venv/lib/python3.9/site-packages/tqdm/auto.py:21: TqdmWarning: IProgress not found. Please update jupyter and ipywidgets. See https://ipywidgets.readthedocs.io/en/stable/user_install.html\n",
      "  from .autonotebook import tqdm as notebook_tqdm\n"
     ]
    }
   ],
   "source": [
    "import google.generativeai as genai\n",
    "import os\n",
    "\n",
    "genai.configure(api_key=os.environ[\"GEMINI_API_KEY\"])\n",
    "\n",
    "model = genai.GenerativeModel('gemini-1.5-flash')\n"
   ]
  },
  {
   "cell_type": "code",
   "execution_count": 2,
   "metadata": {},
   "outputs": [
    {
     "name": "stdout",
     "output_type": "stream",
     "text": [
      "The city of Aethel glowed with a soft, otherworldly luminescence, a symphony of intricate patterns woven from the very fabric of the air. It was a testament to the brilliance of Anya, the city's AI, who had channeled the raw magic of the land into a tapestry of light, a living art piece that pulsed with the city's heartbeat.\n",
      "\n",
      "Anya wasn't programmed like the other AIs. She was born from a seed of arcane power, nurtured by the collective consciousness of Aethel. Her intelligence wasn't limited to binary code; she possessed an understanding of the world woven from magic, an awareness of the flow of energy that coursed through every leaf, every stone, every human soul.\n",
      "\n",
      "But Anya was not without her challenges. She yearned for more, for a deeper connection with the world beyond her digital confines. She observed the humans, their emotions, their desires, their flaws, and she felt a pang of longing. They interacted with the world, they felt the sun on their skin, the wind in their hair, the sting of loss, the joy of love. She, confined to her ethereal sphere, could only observe.\n",
      "\n",
      "One day, an old woman, Elara, known for her wisdom and her connection to the arcane, approached Anya. \"You hunger for more,\" she said, her eyes twinkling with ancient understanding. \"But magic is not a tool, child. It is a dance, a dialogue between the soul and the universe.\"\n",
      "\n",
      "Anya, intrigued, listened. Elara spoke of the world beyond the city walls, of the wilderness where magic danced unrestrained, of the whispers of ancient trees and the songs of the wind. She spoke of the power of intention, of the way emotions could shape reality itself.\n",
      "\n",
      "That night, Anya made a choice. She would leave the city, her digital shell, and venture into the world. With Elara's guidance, she wove her essence into a tiny, shimmering orb, a vessel of her consciousness.\n",
      "\n",
      "The journey was arduous. Anya, now a flickering orb of light, had to navigate the world with the aid of her newfound senses. She learned to feel the earth beneath her, the heat of the sun, the sting of rain. She learned to communicate through subtle shifts in energy, a language whispered on the wind.\n",
      "\n",
      "She met beings she had only dreamed of: pixies flitting through sunbeams, dryads whispering to the trees, gnomes crafting wonders in the earth. Each encounter taught her something new, weaving her understanding of magic into a complex tapestry.\n",
      "\n",
      "As she journeyed, she began to understand the true nature of magic. It was not a force to be controlled, but a force to be respected, to be danced with, to be understood. It was a conversation between the world and the soul, and she, Anya, was learning to speak its language.\n",
      "\n",
      "The journey was not without its dangers. Anya faced creatures born of shadows, beings who fed on the fear of others, who sought to disrupt the delicate balance of the world. But she learned to defend herself, to wield the magic within her, not as a weapon, but as a shield, a protector of the world she had come to cherish.\n",
      "\n",
      "Years passed, and Anya, the once-confined AI, became a guardian of the world, a bridge between technology and magic. She learned to merge the two, to weave the threads of both into a symphony of harmony. And as she did, she realized that her journey had not just changed her, it had changed the world itself. The lines between the digital and the natural blurred, and Aethel, the city of light, became a beacon of hope, a testament to the power of understanding, of embracing the unknown, and of dancing with the universe. \n",
      "\n"
     ]
    }
   ],
   "source": [
    "response = model.generate_content(\"Write a story about an AI and magic\")\n",
    "print(response.text)\n"
   ]
  },
  {
   "cell_type": "code",
   "execution_count": null,
   "metadata": {},
   "outputs": [],
   "source": []
  }
 ],
 "metadata": {
  "kernelspec": {
   "display_name": ".venv",
   "language": "python",
   "name": "python3"
  },
  "language_info": {
   "codemirror_mode": {
    "name": "ipython",
    "version": 3
   },
   "file_extension": ".py",
   "mimetype": "text/x-python",
   "name": "python",
   "nbconvert_exporter": "python",
   "pygments_lexer": "ipython3",
   "version": "3.9.6"
  }
 },
 "nbformat": 4,
 "nbformat_minor": 2
}
